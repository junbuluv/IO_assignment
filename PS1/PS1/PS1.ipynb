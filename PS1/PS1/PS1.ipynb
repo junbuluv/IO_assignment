{
 "cells": [
  {
   "cell_type": "code",
   "execution_count": 15,
   "id": "66c239d1",
   "metadata": {},
   "outputs": [],
   "source": [
    "using Random, Statistics, Parameters, StatsBase, Distributions, Optim, ForwardDiff, Calculus, LinearAlgebra, DataFrames "
   ]
  },
  {
   "cell_type": "markdown",
   "id": "e8fdc11a",
   "metadata": {},
   "source": [
    "Throught the questions, I report mostly results. All other codes are included in the code file (ps1.jl)."
   ]
  },
  {
   "cell_type": "markdown",
   "id": "94c376a3",
   "metadata": {},
   "source": [
    "# Question 1"
   ]
  },
  {
   "cell_type": "markdown",
   "id": "986ef83d",
   "metadata": {},
   "source": [
    "* $M = 250$ markets \n",
    "* Market characteristics: $X_{m} \\sim N(3,1)$, $m = 1,2,..., 250$.\n",
    "* Firm-specific characteristics: $Z_{fm} \\sim N(0,1)$, $f = 1,,.,F_{m}, \\quad m = 1,..,250$.\n",
    "\n"
   ]
  },
  {
   "cell_type": "markdown",
   "id": "088fa4ff",
   "metadata": {},
   "source": [
    "## Data generating"
   ]
  },
  {
   "cell_type": "code",
   "execution_count": 64,
   "id": "3aa7ffd1",
   "metadata": {},
   "outputs": [],
   "source": [
    "@with_kw mutable struct parameters\n",
    "    M::Int64 = 250\n",
    "    α::Float64 = 1.0\n",
    "    β::Float64  = 1.0\n",
    "end\n",
    "\n",
    "\n",
    "param = parameters()\n",
    "δ = 1.0;\n",
    "μ = 2.0;\n",
    "σ = 1.0;\n",
    "tru_param = [μ,σ,δ];\n",
    "\n"
   ]
  },
  {
   "cell_type": "markdown",
   "id": "68824b8d",
   "metadata": {},
   "source": [
    "## Market characteristics and draw numbers of potential entrants in each market"
   ]
  },
  {
   "cell_type": "code",
   "execution_count": 65,
   "id": "18193cfa",
   "metadata": {},
   "outputs": [],
   "source": [
    "X = rand(Normal(3,1), param.M)\n",
    "F = [2,3,4]\n",
    "entrant = sample(MersenneTwister(342) ,F, param.M; replace = true, ordered = false);\n"
   ]
  },
  {
   "cell_type": "markdown",
   "id": "58f94163",
   "metadata": {},
   "source": [
    "## Draw firm-specific and unobservable fixed cost"
   ]
  },
  {
   "cell_type": "code",
   "execution_count": 67,
   "id": "eb575952",
   "metadata": {},
   "outputs": [],
   "source": [
    "uf_num = rand(MersenneTwister(123), Normal(tru_param[1], tru_param[2]), sum(entrant, dims = 1)[1])\n",
    "z_firm = rand(Normal(0,1), sum(entrant, dims = 1)[1])\n",
    "u_firm_new = Vector{Float64}[]\n",
    "z_firm_new = Vector{Float64}[]\n",
    "k = 1\n",
    "j = 0\n",
    "for i in eachindex(entrant)\n",
    "    j += entrant[i]\n",
    "    temp_1 = uf_num[k:j]\n",
    "    temp_2 = z_firm[k:j]\n",
    "    u_firm_new = push!(u_firm_new, temp_1)\n",
    "    z_firm_new = push!(z_firm_new, temp_2)\n",
    "    k = j + 1\n",
    "end\n",
    "Z = copy(z_firm_new);"
   ]
  },
  {
   "cell_type": "markdown",
   "id": "f876a075",
   "metadata": {},
   "source": [
    "## Get equilibrium entered firm numbers and firm's entry decisions. "
   ]
  },
  {
   "cell_type": "markdown",
   "id": "fad36f3e",
   "metadata": {},
   "source": [
    "To compute equilibrium entered firm numbers and each firm's decisions. I follow the specification in Berry (1992). The number of firms that enter the market $m$ is computed as \n",
    "\n",
    "$$N_m = \\max_{ 0 \\leq n \\leq F_m}(n:\\#\\{f:Π_{mf}(n,u_{fm})\\geq 0\\} \\geq n)$$\n",
    "\n",
    "Firm deicisons can be computed by checking if each firm's the cost-rank number is less than equal to the number of entrants in the market $m$ ($N_m$)."
   ]
  },
  {
   "cell_type": "code",
   "execution_count": 68,
   "id": "d004015f",
   "metadata": {},
   "outputs": [],
   "source": [
    "entered_firm, decision = eq_firm_calc(tru_param, param, X, entrant, Z, u_firm_new);"
   ]
  },
  {
   "cell_type": "markdown",
   "id": "a9b17581",
   "metadata": {},
   "source": [
    "## For the expositional purpose, I here create dataframe (In the actual estimation, this dataframe is not used)"
   ]
  },
  {
   "cell_type": "code",
   "execution_count": 47,
   "id": "61766d08",
   "metadata": {},
   "outputs": [
    {
     "data": {
      "text/html": [
       "<div class=\"data-frame\"><p>10 rows × 5 columns</p><table class=\"data-frame\"><thead><tr><th></th><th>market_index</th><th>observed_profit</th><th>potential_firm_number</th><th>entry_decision</th><th>eq_firm_number</th></tr><tr><th></th><th title=\"Int64\">Int64</th><th title=\"Float64\">Float64</th><th title=\"Int64\">Int64</th><th title=\"Int64\">Int64</th><th title=\"Int64\">Int64</th></tr></thead><tbody><tr><th>1</th><td>1</td><td>0.914035</td><td>4</td><td>0</td><td>0</td></tr><tr><th>2</th><td>1</td><td>0.417636</td><td>4</td><td>0</td><td>0</td></tr><tr><th>3</th><td>1</td><td>-0.479137</td><td>4</td><td>0</td><td>0</td></tr><tr><th>4</th><td>1</td><td>-2.34252</td><td>4</td><td>0</td><td>0</td></tr><tr><th>5</th><td>2</td><td>2.63331</td><td>2</td><td>1</td><td>1</td></tr><tr><th>6</th><td>2</td><td>0.210277</td><td>2</td><td>0</td><td>1</td></tr><tr><th>7</th><td>3</td><td>2.17458</td><td>4</td><td>0</td><td>0</td></tr><tr><th>8</th><td>3</td><td>1.49642</td><td>4</td><td>0</td><td>0</td></tr><tr><th>9</th><td>3</td><td>1.04001</td><td>4</td><td>0</td><td>0</td></tr><tr><th>10</th><td>3</td><td>0.992963</td><td>4</td><td>0</td><td>0</td></tr></tbody></table></div>"
      ],
      "text/latex": [
       "\\begin{tabular}{r|ccccc}\n",
       "\t& market\\_index & observed\\_profit & potential\\_firm\\_number & entry\\_decision & eq\\_firm\\_number\\\\\n",
       "\t\\hline\n",
       "\t& Int64 & Float64 & Int64 & Int64 & Int64\\\\\n",
       "\t\\hline\n",
       "\t1 & 1 & 0.914035 & 4 & 0 & 0 \\\\\n",
       "\t2 & 1 & 0.417636 & 4 & 0 & 0 \\\\\n",
       "\t3 & 1 & -0.479137 & 4 & 0 & 0 \\\\\n",
       "\t4 & 1 & -2.34252 & 4 & 0 & 0 \\\\\n",
       "\t5 & 2 & 2.63331 & 2 & 1 & 1 \\\\\n",
       "\t6 & 2 & 0.210277 & 2 & 0 & 1 \\\\\n",
       "\t7 & 3 & 2.17458 & 4 & 0 & 0 \\\\\n",
       "\t8 & 3 & 1.49642 & 4 & 0 & 0 \\\\\n",
       "\t9 & 3 & 1.04001 & 4 & 0 & 0 \\\\\n",
       "\t10 & 3 & 0.992963 & 4 & 0 & 0 \\\\\n",
       "\\end{tabular}\n"
      ],
      "text/plain": [
       "\u001b[1m10×5 DataFrame\u001b[0m\n",
       "\u001b[1m Row \u001b[0m│\u001b[1m market_index \u001b[0m\u001b[1m observed_profit \u001b[0m\u001b[1m potential_firm_number \u001b[0m\u001b[1m entry_decision \u001b[0m\u001b[1m e\u001b[0m ⋯\n",
       "\u001b[1m     \u001b[0m│\u001b[90m Int64        \u001b[0m\u001b[90m Float64         \u001b[0m\u001b[90m Int64                 \u001b[0m\u001b[90m Int64          \u001b[0m\u001b[90m I\u001b[0m ⋯\n",
       "─────┼──────────────────────────────────────────────────────────────────────────\n",
       "   1 │            1         0.914035                      4               0    ⋯\n",
       "   2 │            1         0.417636                      4               0\n",
       "   3 │            1        -0.479137                      4               0\n",
       "   4 │            1        -2.34252                       4               0\n",
       "   5 │            2         2.63331                       2               1    ⋯\n",
       "   6 │            2         0.210277                      2               0\n",
       "   7 │            3         2.17458                       4               0\n",
       "   8 │            3         1.49642                       4               0\n",
       "   9 │            3         1.04001                       4               0    ⋯\n",
       "  10 │            3         0.992963                      4               0\n",
       "\u001b[36m                                                                1 column omitted\u001b[0m"
      ]
     },
     "execution_count": 47,
     "metadata": {},
     "output_type": "execute_result"
    }
   ],
   "source": [
    "first(data_1, 10)"
   ]
  },
  {
   "cell_type": "markdown",
   "id": "3d26ada1",
   "metadata": {},
   "source": [
    "* Data show market index, observed fixed costs (market + firm specific), potential firm numbers for each market, each firm's entry decision, and eqilibrium entered firm numbers for each market."
   ]
  },
  {
   "cell_type": "markdown",
   "id": "561f8458",
   "metadata": {},
   "source": [
    "# Question 2 : Probit estimator"
   ]
  },
  {
   "cell_type": "markdown",
   "id": "21f68ea8",
   "metadata": {},
   "source": [
    "Following one of the special cases explained in Berry (1992), I focus on the probabilities of the number of firms in each market with three cases.\n",
    "* $Pr(N=0)$\n",
    "* $Pr(N=1)$\n",
    "* $Pr(N=2)$"
   ]
  },
  {
   "cell_type": "markdown",
   "id": "5188971c",
   "metadata": {},
   "source": [
    "## Compute probit estimates and standard errors for ($\\mu$, $\\sigma$, $\\delta$)\n",
    "Here I use BFGS for the probit estimator and compute standard error using the information matrix."
   ]
  },
  {
   "cell_type": "markdown",
   "id": "ad28c6d3",
   "metadata": {},
   "source": [
    "* Do you need to make any equilibrium selection assumptions?\n",
    "\n",
    "I made an equilibrium selection assumption that profitable firms enter first sequentially."
   ]
  },
  {
   "cell_type": "code",
   "execution_count": 69,
   "id": "6d8088da",
   "metadata": {},
   "outputs": [
    {
     "data": {
      "text/plain": [
       "3-element Vector{Float64}:\n",
       " 2.167048317102835\n",
       " 0.9586206048170339\n",
       " 0.6026102979703265"
      ]
     },
     "execution_count": 69,
     "metadata": {},
     "output_type": "execute_result"
    }
   ],
   "source": [
    "opt_probit = Optim.optimize(vars -> entry_probit(vars, param, X, Z, entrant, entered_firm), ones(3), BFGS(), Optim.Options(show_trace = false, g_tol = 1e-7));\n",
    "estimates_probit = opt_probit.minimizer"
   ]
  },
  {
   "cell_type": "code",
   "execution_count": 58,
   "id": "d840b14e",
   "metadata": {},
   "outputs": [
    {
     "data": {
      "text/plain": [
       "3-element Vector{Float64}:\n",
       " 0.019013639206240877\n",
       " 0.019354139457049585\n",
       " 0.03598819093003883"
      ]
     },
     "execution_count": 58,
     "metadata": {},
     "output_type": "execute_result"
    }
   ],
   "source": [
    "hessian_probit = hessian( vars -> entry_probit(vars, param, X, Z, entrant, entered_firm)  )\n",
    "se_probit = diag(inv(hessian_probit(estimates_probit)))\n",
    "\n"
   ]
  },
  {
   "cell_type": "markdown",
   "id": "0ea8809f",
   "metadata": {},
   "source": [
    "#  Question 3 and 4 : Method of Simulated Moments"
   ]
  },
  {
   "cell_type": "markdown",
   "id": "75480d28",
   "metadata": {},
   "source": [
    "## MSM estimator (including incorrect specification cases)"
   ]
  },
  {
   "cell_type": "markdown",
   "id": "bafdb2c0",
   "metadata": {},
   "source": [
    "### (a-1) The correctly specified model: Using identities of firms and numbers of entered firms\n"
   ]
  },
  {
   "cell_type": "code",
   "execution_count": 91,
   "id": "6d53ff98",
   "metadata": {},
   "outputs": [
    {
     "data": {
      "text/plain": [
       "3-element Vector{Float64}:\n",
       " 1.9816565196623905\n",
       " 0.851003693563963\n",
       " 1.1334036592648404"
      ]
     },
     "execution_count": 91,
     "metadata": {},
     "output_type": "execute_result"
    }
   ],
   "source": [
    "opt_identity = Optim.optimize(vars -> simulated_mm(vars, param, X, Z, entered_firm, decision, entrant, 200, \"identity\"), ones(3), Optim.Options(show_trace = false, g_tol = 1e-5))\n",
    "estimates_identity = opt_identity.minimizer"
   ]
  },
  {
   "cell_type": "markdown",
   "id": "8a9ae81e",
   "metadata": {},
   "source": [
    "### (a-2) The correctly specified model: Using just the numbers of entered firm."
   ]
  },
  {
   "cell_type": "code",
   "execution_count": 103,
   "id": "a176bcd7",
   "metadata": {},
   "outputs": [
    {
     "data": {
      "text/plain": [
       "3-element Vector{Float64}:\n",
       " 1.933239484005392\n",
       " 0.9789171418973519\n",
       " 1.1882196697374585"
      ]
     },
     "execution_count": 103,
     "metadata": {},
     "output_type": "execute_result"
    }
   ],
   "source": [
    "opt_number = Optim.optimize(vars -> simulated_mm(vars, param, X, Z, entered_firm, decision, entrant, 200, \"number\"), ones(3), Optim.Options(show_trace = false, g_tol = 1e-5))\n",
    "estimates_msm = opt_number.minimizer"
   ]
  },
  {
   "cell_type": "markdown",
   "id": "47e0e4a1",
   "metadata": {},
   "source": [
    "### (b-1) The incorrectly specificed model: Using identities of firms and numbers of entered firms."
   ]
  },
  {
   "cell_type": "code",
   "execution_count": 92,
   "id": "d7285f3b",
   "metadata": {},
   "outputs": [
    {
     "data": {
      "text/plain": [
       "3-element Vector{Float64}:\n",
       " 1.2231182031066525\n",
       " 2.7818914310742255\n",
       " 2.2687948757076404"
      ]
     },
     "execution_count": 92,
     "metadata": {},
     "output_type": "execute_result"
    }
   ],
   "source": [
    "opt_identity_rev = Optim.optimize(vars -> simulated_mm(vars, param, X, Z, entered_firm, decision, entrant, 200, \"identityrev\"), ones(3), Optim.Options(show_trace = false, g_tol = 1e-5))\n",
    "estimates_identity_rev = opt_identity_rev.minimizer"
   ]
  },
  {
   "cell_type": "markdown",
   "id": "72bbd765",
   "metadata": {},
   "source": [
    "### (b-2) The incorrectly specified model: Using just the numbers of entered firm."
   ]
  },
  {
   "cell_type": "code",
   "execution_count": 108,
   "id": "2c175361",
   "metadata": {},
   "outputs": [
    {
     "data": {
      "text/plain": [
       "3-element Vector{Float64}:\n",
       " 1.9550171263455598\n",
       " 1.917147396384817\n",
       " 1.25705981799055"
      ]
     },
     "execution_count": 108,
     "metadata": {},
     "output_type": "execute_result"
    }
   ],
   "source": [
    "opt_number_rev = Optim.optimize(vars -> simulated_mm(vars, param, X, Z, entered_firm, decision, entrant, 200, \"numberrev\"), ones(3), Optim.Options(show_trace = false, g_tol = 1e-5))\n",
    "estimates_msm_rev = opt_number_rev.minimizer"
   ]
  },
  {
   "cell_type": "markdown",
   "id": "67d61235",
   "metadata": {},
   "source": [
    "### Standard error: Bootstrap (Bootstrap simulation : 100 times)"
   ]
  },
  {
   "cell_type": "markdown",
   "id": "6293749c",
   "metadata": {},
   "source": [
    "* Bootstrapping procedures\n",
    "1. Random sample with replacement for $Z_{fm}$ for each market.\n",
    "2. Solve equilibrium entered firm numbers and entry decisions.\n",
    "3. Get estimates for $\\mu$, $\\sigma$, and $\\delta$.\n",
    "4. Repeat step 1-3 for $S$ times ($S$ is bootstrapping number).\n",
    "\n",
    "After bootstrapping, get standard errors of bootstrapped estimates."
   ]
  },
  {
   "cell_type": "code",
   "execution_count": 83,
   "id": "2f775bac",
   "metadata": {},
   "outputs": [],
   "source": [
    "ident, num, ident_rev, num_rev = msm_bootstrap(param, X, Z, u_firm_new, entrant, 100);"
   ]
  },
  {
   "cell_type": "markdown",
   "id": "e8d24631",
   "metadata": {},
   "source": [
    "## Results: (Standard errrors are reported in the brackets)\n",
    "#### I omit codes for the estimations here (There are provided in my julia code file)"
   ]
  },
  {
   "cell_type": "markdown",
   "id": "06e40479",
   "metadata": {},
   "source": [
    "|          \t|      Probit estimator     \t| Specification 1 (Identity & Number) \t|  Specification 2 (Number) \t| Specification 3 (Identity & Number, Incorrect) \t| Specification 4 (Number, Incorrect) \t|\n",
    "|:--------:\t|:-------------------------:\t|:-----------------------------------:\t|:-------------------------:\t|:----------------------------------------------:\t|:-----------------------------------:\t|\n",
    "|          \t| Estimate (Standard error) \t|      Estimate (Standard error)      \t| Estimate (Standard error) \t|            Estimate (Standard error)           \t|      Estimate (Standard error)      \t|\n",
    "|   $\\mu$  \t|       2.0133 (0.016)      \t|           1.9817 (0.1176)           \t|      1.9332 (0.1176)      \t|                 1.2231 (0.3405)                \t|           1.9550 (0.1491)           \t|\n",
    "| $\\sigma$ \t|      0.9053 (0.0078)      \t|           0.8510 (0.1054)           \t|      0.9789 (0.1054)      \t|                 2.7818 (0.2340)                \t|           1.9171 (0.1320)           \t|\n",
    "| $\\delta$ \t|      0.7073 (0.0236)      \t|           1.1334 (0.1452)           \t|      1.1882 (0.1452)      \t|                 2.2688 (0.4972)                \t|           1.2570 (0.2315)           \t|"
   ]
  },
  {
   "cell_type": "markdown",
   "id": "309e1264",
   "metadata": {},
   "source": [
    "## Discussion: Choice of moments\n",
    "\n",
    "- First specification: using identities and numbers of firms entered\n",
    "\n",
    "\n",
    "For the first specification (using identities and numbers of firms entered), population moments are \n",
    "\n",
    "$ m(\\theta) = E[(D - D(\\theta), N - N(\\theta))] = 0 $, where $D$ is entry decisions and $N$ is entered firm numbers. \n",
    "\n",
    "\n",
    "Corresponding sample moments are \n",
    "\n",
    "\n",
    "$\\hat{m}(\\theta) = \\frac{1}{M} \\sum_{m=1}^{M} \\left((D_{m} - \\hat{D}(\\theta)_{m}, N_{m} - \\hat{N}(\\theta)_{m}\\right)$\n",
    "\n",
    "\n",
    "and Simulated Method of Moments replace $ \\hat{D}(\\theta), \\hat{N}(\\theta)$ with $\\tilde{D}(\\theta) = \\frac{1}{S}\\sum_{s}^{S}D^{s}(\\theta)$, $\\tilde{N}(\\theta) =  \\frac{1}{S}\\sum_{s}^{S}N^{s}(\\theta)$\n",
    "\n",
    "More specifically, the sample moment condition $\\hat{m}(\\theta)$ is $ K \\times 1 $ vector, where $K = \\sum_{m=1}^{M} F_{m} + M$ where $F_{m}$ is potential entrant numbers in market $m$.\n",
    "\n",
    "- Second specification: using only numbers of firms entered\n",
    "\n",
    "\n",
    "$ m(\\theta) = E[(N - N(\\theta))] = 0 $, where $D$ is entry decisions and $N$ is entered firm numbers. \n",
    "\n",
    "\n",
    "Corresponding sample moments are \n",
    "\n",
    "\n",
    "$\\hat{m}(\\theta) = \\frac{1}{M} \\sum_{m=1}^{M} \\left(N_{m} - \\hat{N}(\\theta)_{m}\\right)$\n",
    "\n",
    "\n",
    "and Simulated Method of Moments replace $ \\hat{N}(\\theta)$ with $\\tilde{N}(\\theta) =  \\frac{1}{S}\\sum_{s}^{S}N^{s}(\\theta)$.\n",
    "\n",
    "Sample moment condition $\\hat{m}(\\theta)$ is $M \\times 1$ vector. \n",
    "\n",
    "Then the GMM estimator $\\hat{\\theta}_{gmm}$ is \n",
    "\n",
    "$\\hat{\\theta}_{gmm} = \\text{argmin}_{\\theta} \\text{ } \\hat{m}^{\\top}(\\theta) W \\hat{m}(\\theta)$, where $W$, weighting matrix, is an identity matrix here.\n",
    "\n",
    "\n",
    "* Due to the discontuity, I use a non-derivative method (Nelder-Mead)\n"
   ]
  },
  {
   "cell_type": "markdown",
   "id": "46ea2135",
   "metadata": {},
   "source": [
    "## Discussion: Estimates\n",
    "\n",
    "- Case 1: Using both identities and numbers\n",
    "\n",
    "Comparing specifications 1 and 3 (Using both identities and numbers of firms entered), incorrectly specified estimation gives bigger estimates for $\\sigma$ and $\\delta$. This is reasonable because, in the incorrectly specified model, firms with the highest fixed costs (lowest profitability) enter first so the competitive effect, $\\delta$, is bigger than that of the correctly specified case. Since the sequence of entry is the opposite in the incorrect model, the variance of unobservable fixed costs increases while the mean level of unobservable fixed costs decreases. The standard errors also show that the incorrect model estimates are noisier than those of the correctly specified model.\n",
    "\n",
    "- Case 2: Using only firm numbers\n",
    "\n",
    "Comparison of specifications 2 and 4 show the difference between estimates and standard errors when the entry order is correct and incorrect. While specification 4 indicates the variance of unobservable fixed costs and the competitive effect increase when the entry sequence is incorrectly specified, the magnitude of the difference is smaller than that of case 1. This is because in case 1 (using both identities and entered firm numbers), misspecification causes biased predictions for identities mainly. The misspecification also causes wrong predictions on the numbers of firms entered in each market but it is not as severe as misprediction of firms' entry decisions. \n",
    "\n",
    "\n"
   ]
  },
  {
   "cell_type": "markdown",
   "id": "06e211af",
   "metadata": {},
   "source": [
    "# Question 5: Moment inequality"
   ]
  },
  {
   "cell_type": "markdown",
   "id": "d4b4cb9b",
   "metadata": {},
   "source": [
    "For the moment inequality estimation, the objective function is \n",
    "\n",
    "$Q(\\theta) = \\int \\| P(x) - H_1 (x,\\theta)_{-} \\| + \\|P(x) - H_2 (x,\\theta)_{+}\\| dF_{x}$\n",
    "\n",
    "and the sample conditions are \n",
    "\n",
    "$Q_{n}(\\theta) = \\frac{1}{N} \\sum_{i=1}^{n} \\| P_n(x_{i}) - \\hat{H}_1 (x_{i},\\theta)_{-} \\| + \\|P_{n}(x_{i}) - \\hat{H}_2 (x_{i},\\theta)_{+}\\|$\n",
    "\n",
    "where ${H}_{1}$ and ${H}_{2}$ are replaced with $\\hat{H}_{1} \\equiv \\frac{1}{R}\\tilde{H}_{1}(X,\\theta)$ and $\\hat{H}_{1} \\equiv \\frac{1}{R}\\tilde{H}_{2}(X,\\theta)$, respectively."
   ]
  },
  {
   "cell_type": "markdown",
   "id": "04f0c9c8",
   "metadata": {},
   "source": [
    "## First stage. $Pr(y|X)$ $\\sim$ $P_{n}(x_{i})$\n",
    "\n",
    "First stage is to estimate $Pr(y|X)$ using a nonparametric frequency estimator.\n",
    "This procedure is done by counting market specific entry decisions. \n",
    "(I include the estimation code in the code file)."
   ]
  },
  {
   "cell_type": "markdown",
   "id": "4c4072ad",
   "metadata": {},
   "source": [
    "### 1. $P_{n}(x)$ when the market has 2 potential entrants"
   ]
  },
  {
   "cell_type": "code",
   "execution_count": 114,
   "id": "549372f4",
   "metadata": {},
   "outputs": [
    {
     "name": "stdout",
     "output_type": "stream",
     "text": [
      "[0.3979591836734694, 0.23469387755102042, 0.22448979591836735, 0.14285714285714285]\n"
     ]
    }
   ],
   "source": [
    "println(p1)"
   ]
  },
  {
   "cell_type": "markdown",
   "id": "b029ad75",
   "metadata": {},
   "source": [
    "### 2. $P_{n}(x)$ when the market has 3 potential entrants"
   ]
  },
  {
   "cell_type": "code",
   "execution_count": 115,
   "id": "9744418d",
   "metadata": {},
   "outputs": [
    {
     "name": "stdout",
     "output_type": "stream",
     "text": [
      "[0.18666666666666668, 0.14666666666666667, 0.13333333333333333, 0.17333333333333334, 0.12, 0.08, 0.10666666666666667, 0.08]\n"
     ]
    }
   ],
   "source": [
    "println(p2)"
   ]
  },
  {
   "cell_type": "markdown",
   "id": "5387ffee",
   "metadata": {},
   "source": [
    "### 3. $P_{n}(x)$ when the market has 4 potential entrants"
   ]
  },
  {
   "cell_type": "code",
   "execution_count": 116,
   "id": "94442d05",
   "metadata": {},
   "outputs": [
    {
     "name": "stdout",
     "output_type": "stream",
     "text": [
      "[0.11688311688311688, 0.012987012987012988, 0.03896103896103896, 0.09090909090909091, 0.025974025974025976, 0.07792207792207792, 0.1038961038961039, 0.07792207792207792, 0.06493506493506493, 0.07792207792207792, 0.06493506493506493, 0.07792207792207792, 0.025974025974025976, 0.025974025974025976, 0.06493506493506493, 0.05194805194805195]\n"
     ]
    }
   ],
   "source": [
    "println(p3)"
   ]
  },
  {
   "cell_type": "markdown",
   "id": "f8453b63",
   "metadata": {},
   "source": [
    "## Second stage. $Q(\\theta)$\n",
    "\n"
   ]
  },
  {
   "cell_type": "markdown",
   "id": "0e98793f",
   "metadata": {},
   "source": [
    "To implement the second stage, I implement $H_{1}$ and $H_{2}$ following the procedures explained in Ciliberto and Tamer (2009) supplementary material.\n",
    "\n",
    "$\\theta$ here is $\\mu$, $\\sigma$, $\\delta_{j}^{i}, \\quad \\forall j \\neq i, \\quad\\forall i \\neq j$ "
   ]
  },
  {
   "cell_type": "markdown",
   "id": "4278937c",
   "metadata": {},
   "source": [
    "## Estimates"
   ]
  },
  {
   "cell_type": "markdown",
   "id": "2926f0da",
   "metadata": {},
   "source": [
    " $\\mu = 2.9334329179686596 \\quad\n",
    " \\sigma = 0.5872881231290252 \\quad\n",
    " \\delta_{1}^{2} = 0.8139350178194646 \\quad\n",
    " \\delta_{2}^{1} = 0.7921335593224738 \\quad\n",
    " \\delta_{1}^{2} = 1.2476807781835633 \\quad\n",
    " \\delta_{1}^{3} = 1.4537333669587873 \\quad\n",
    " \\delta_{2}^{1} = 0.790593791266027 \\quad\n",
    "\\cdots\n",
    " \\delta_{3}^{1} = 1.3832306774113636 \\quad\n",
    " \\delta_{3}^{2} = 0.6882627719479003 \\quad\n",
    " \\delta_{3}^{4} = 1.1416227470387794 \\quad\n",
    " \\delta_{4}^{1} = 0.8604243251831124 \\quad\n",
    " \\delta_{4}^{2} = 0.8701771450292943 \\quad\n",
    " \\delta_{4}^{3} = 0.8930463362880245$"
   ]
  },
  {
   "cell_type": "markdown",
   "id": "015cf564",
   "metadata": {},
   "source": [
    "## Constrcut confidence interval"
   ]
  },
  {
   "cell_type": "markdown",
   "id": "3e7e35ba",
   "metadata": {},
   "source": [
    "I wasn't able to finish this part due to time limit. I will finish this part and resubmit the file."
   ]
  },
  {
   "cell_type": "markdown",
   "id": "d659f3d6",
   "metadata": {},
   "source": [
    "Estimates from the moment inequality are different from the ones in Q2 and Q3,4. Competitive effects are much more flexible. The previous estimations assume $\\delta = \\delta_{i}^{j}, \\quad \\forall i, j$, the moment inequality estimation can estimate fully flexible $\\delta_{i}^{j}$. Also, I did not impose any selection rule, such as lowest fixed cost firms entering first, for the estimation. This is a lot more flexible than the MSM estimator and probit estimator. Since I have not finished the confidence interval part, I am not 100\\% sure what the disadvantages are but this estimation takes longer time. (I will fix the incomplete part...)."
   ]
  }
 ],
 "metadata": {
  "kernelspec": {
   "display_name": "Julia 1.7.2",
   "language": "julia",
   "name": "julia-1.7"
  },
  "language_info": {
   "file_extension": ".jl",
   "mimetype": "application/julia",
   "name": "julia",
   "version": "1.7.2"
  }
 },
 "nbformat": 4,
 "nbformat_minor": 5
}
