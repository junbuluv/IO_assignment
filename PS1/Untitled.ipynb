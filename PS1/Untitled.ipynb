{
 "cells": [
  {
   "cell_type": "code",
   "execution_count": 15,
   "id": "cbae76b5",
   "metadata": {},
   "outputs": [],
   "source": [
    "using Random, Statistics, Parameters, StatsBase, Distributions, Optim, ForwardDiff, Calculus, LinearAlgebra, DataFrames "
   ]
  },
  {
   "cell_type": "markdown",
   "id": "c83b9937",
   "metadata": {},
   "source": [
    "# Question 1"
   ]
  },
  {
   "cell_type": "markdown",
   "id": "7ab35c0e",
   "metadata": {},
   "source": [
    "* $M = 250$ markets \n",
    "* Market characteristics: $X_{m} \\sim N(3,1)$, $m = 1,2,..., 250$.\n",
    "* Firm-specific characteristics: $Z_{fm} \\sim N(0,1)$, $f = 1,,.,F_{m}, \\quad m = 1,..,250$.\n",
    "\n"
   ]
  },
  {
   "cell_type": "markdown",
   "id": "6c3eecc0",
   "metadata": {},
   "source": [
    "## Data generating"
   ]
  },
  {
   "cell_type": "code",
   "execution_count": 64,
   "id": "9b45283e",
   "metadata": {},
   "outputs": [],
   "source": [
    "@with_kw mutable struct parameters\n",
    "    M::Int64 = 250\n",
    "    α::Float64 = 1.0\n",
    "    β::Float64  = 1.0\n",
    "end\n",
    "\n",
    "\n",
    "param = parameters()\n",
    "δ = 1.0;\n",
    "μ = 2.0;\n",
    "σ = 1.0;\n",
    "tru_param = [μ,σ,δ];\n",
    "\n"
   ]
  },
  {
   "cell_type": "markdown",
   "id": "4f96bfaa",
   "metadata": {},
   "source": [
    "## Market characteristics and draw numbers of potential entrants in each market"
   ]
  },
  {
   "cell_type": "code",
   "execution_count": 65,
   "id": "6f5774f8",
   "metadata": {},
   "outputs": [],
   "source": [
    "X = rand(Normal(3,1), param.M)\n",
    "F = [2,3,4]\n",
    "entrant = sample(MersenneTwister(342) ,F, param.M; replace = true, ordered = false);\n"
   ]
  },
  {
   "cell_type": "markdown",
   "id": "414df5d8",
   "metadata": {},
   "source": [
    "## Draw firm-specific and unobservable fixed cost"
   ]
  },
  {
   "cell_type": "code",
   "execution_count": 67,
   "id": "ccda28dc",
   "metadata": {},
   "outputs": [],
   "source": [
    "uf_num = rand(MersenneTwister(123), Normal(tru_param[1], tru_param[2]), sum(entrant, dims = 1)[1])\n",
    "z_firm = rand(Normal(0,1), sum(entrant, dims = 1)[1])\n",
    "u_firm_new = Vector{Float64}[]\n",
    "z_firm_new = Vector{Float64}[]\n",
    "k = 1\n",
    "j = 0\n",
    "for i in eachindex(entrant)\n",
    "    j += entrant[i]\n",
    "    temp_1 = uf_num[k:j]\n",
    "    temp_2 = z_firm[k:j]\n",
    "    u_firm_new = push!(u_firm_new, temp_1)\n",
    "    z_firm_new = push!(z_firm_new, temp_2)\n",
    "    k = j + 1\n",
    "end\n",
    "Z = copy(z_firm_new);"
   ]
  },
  {
   "cell_type": "markdown",
   "id": "254b6daf",
   "metadata": {},
   "source": [
    "## Get equilibrium entered firm numbers and firm's entry decisions. "
   ]
  },
  {
   "cell_type": "code",
   "execution_count": 11,
   "id": "8156c02b",
   "metadata": {},
   "outputs": [
    {
     "data": {
      "text/plain": [
       "eq_firm_calc (generic function with 1 method)"
      ]
     },
     "execution_count": 11,
     "metadata": {},
     "output_type": "execute_result"
    }
   ],
   "source": [
    "function eq_firm_calc(tru_param::AbstractVector, other_param::parameters, market::AbstractVector, potential::AbstractVector, Z::AbstractVector, U::AbstractVector)\n",
    "    \"\"\" equilbrium entered firm calculation\n",
    "    Input:\n",
    "    1. tru_param::AbstractVector : true parameters - [μ, σ, δ] \n",
    "    2. other_param::parameters : other true parameters [α, β, M]\n",
    "    3. Market::AbstractVector - market observables\n",
    "    4. potential::AbstractVector - potential entrants for each market (M vector)\n",
    "    5. Z::AbstractVector - firm observable costs\n",
    "    6. U::AbstractVector - firm fixed cost unobservables \n",
    "    Output: \n",
    "    1. eq_entered::AbstractVector : equilbrium entered firm number\n",
    "    2. decision_firm::AbstractVector : equilibrium firm entry decisions. \n",
    "    \"\"\"\n",
    "    # Initialization\n",
    "    ## equilbrium firm entry : Most profitably firms enter firm\n",
    "    #Profit : Π = X*β - (Z * α + u_firm)   \n",
    "    eq_entered = zeros(eltype(Int64),length(potential))\n",
    "    Π = similar(Z)\n",
    "    rank_firm = Vector{Int64}[]\n",
    "    decision_firm = Vector{Int64}[]\n",
    "    for m in eachindex(potential)\n",
    "        x = market[m]\n",
    "        entr_num = potential[m]\n",
    "        Z_m = Z[m]\n",
    "        U_f = U[m]\n",
    "        Π_m = zeros(eltype(Float64),entr_num)\n",
    "        Π_m = x * other_param.β .- Z_m * other_param.α - U_f\n",
    "        Π_m_ranked =  sort(Π_m, rev= true)\n",
    "        eq_entered[m] = 0\n",
    "        entrant_number = Vector(1:1:potential[m])\n",
    "\n",
    "        Profit = Π_m_ranked - tru_param[3] * log.(entrant_number)\n",
    "        eq_entered[m] = count(i -> (i>=0), Profit)\n",
    "\n",
    "\n",
    "        temp1 = Profit + tru_param[3] * log.(entrant_number)\n",
    "        temp2 = round.(Π_m; digits = 5)\n",
    "        temp3 = round.(temp1; digits = 5)\n",
    "        temp4 = zeros(eltype(Int64), potential[m])\n",
    "        for j in 1: potential[m]\n",
    "            temp4[j] = findall(temp2 .== temp3[j])[1]\n",
    "        end\n",
    "        \n",
    "        rank_firm = push!(rank_firm, temp4)\n",
    "        temp_d = temp4 .<= eq_entered[m]\n",
    "        decision_firm = push!(decision_firm, temp_d)\n",
    "\n",
    "        \n",
    "    end\n",
    "    return eq_entered , decision_firm #250 X 1 vector, firm specific cost\n",
    "end\n"
   ]
  },
  {
   "cell_type": "code",
   "execution_count": 68,
   "id": "a1b012c2",
   "metadata": {},
   "outputs": [],
   "source": [
    "entered_firm, decision = eq_firm_calc(tru_param, param, X, entrant, Z, u_firm_new);"
   ]
  },
  {
   "cell_type": "markdown",
   "id": "c50ceb45",
   "metadata": {},
   "source": [
    "## For the expositional purpose, I here create dataframe (In the actual estimation, this dataframe is not used)"
   ]
  },
  {
   "cell_type": "code",
   "execution_count": 47,
   "id": "f2c7399b",
   "metadata": {},
   "outputs": [
    {
     "data": {
      "text/html": [
       "<div class=\"data-frame\"><p>10 rows × 5 columns</p><table class=\"data-frame\"><thead><tr><th></th><th>market_index</th><th>observed_profit</th><th>potential_firm_number</th><th>entry_decision</th><th>eq_firm_number</th></tr><tr><th></th><th title=\"Int64\">Int64</th><th title=\"Float64\">Float64</th><th title=\"Int64\">Int64</th><th title=\"Int64\">Int64</th><th title=\"Int64\">Int64</th></tr></thead><tbody><tr><th>1</th><td>1</td><td>0.914035</td><td>4</td><td>0</td><td>0</td></tr><tr><th>2</th><td>1</td><td>0.417636</td><td>4</td><td>0</td><td>0</td></tr><tr><th>3</th><td>1</td><td>-0.479137</td><td>4</td><td>0</td><td>0</td></tr><tr><th>4</th><td>1</td><td>-2.34252</td><td>4</td><td>0</td><td>0</td></tr><tr><th>5</th><td>2</td><td>2.63331</td><td>2</td><td>1</td><td>1</td></tr><tr><th>6</th><td>2</td><td>0.210277</td><td>2</td><td>0</td><td>1</td></tr><tr><th>7</th><td>3</td><td>2.17458</td><td>4</td><td>0</td><td>0</td></tr><tr><th>8</th><td>3</td><td>1.49642</td><td>4</td><td>0</td><td>0</td></tr><tr><th>9</th><td>3</td><td>1.04001</td><td>4</td><td>0</td><td>0</td></tr><tr><th>10</th><td>3</td><td>0.992963</td><td>4</td><td>0</td><td>0</td></tr></tbody></table></div>"
      ],
      "text/latex": [
       "\\begin{tabular}{r|ccccc}\n",
       "\t& market\\_index & observed\\_profit & potential\\_firm\\_number & entry\\_decision & eq\\_firm\\_number\\\\\n",
       "\t\\hline\n",
       "\t& Int64 & Float64 & Int64 & Int64 & Int64\\\\\n",
       "\t\\hline\n",
       "\t1 & 1 & 0.914035 & 4 & 0 & 0 \\\\\n",
       "\t2 & 1 & 0.417636 & 4 & 0 & 0 \\\\\n",
       "\t3 & 1 & -0.479137 & 4 & 0 & 0 \\\\\n",
       "\t4 & 1 & -2.34252 & 4 & 0 & 0 \\\\\n",
       "\t5 & 2 & 2.63331 & 2 & 1 & 1 \\\\\n",
       "\t6 & 2 & 0.210277 & 2 & 0 & 1 \\\\\n",
       "\t7 & 3 & 2.17458 & 4 & 0 & 0 \\\\\n",
       "\t8 & 3 & 1.49642 & 4 & 0 & 0 \\\\\n",
       "\t9 & 3 & 1.04001 & 4 & 0 & 0 \\\\\n",
       "\t10 & 3 & 0.992963 & 4 & 0 & 0 \\\\\n",
       "\\end{tabular}\n"
      ],
      "text/plain": [
       "\u001b[1m10×5 DataFrame\u001b[0m\n",
       "\u001b[1m Row \u001b[0m│\u001b[1m market_index \u001b[0m\u001b[1m observed_profit \u001b[0m\u001b[1m potential_firm_number \u001b[0m\u001b[1m entry_decision \u001b[0m\u001b[1m e\u001b[0m ⋯\n",
       "\u001b[1m     \u001b[0m│\u001b[90m Int64        \u001b[0m\u001b[90m Float64         \u001b[0m\u001b[90m Int64                 \u001b[0m\u001b[90m Int64          \u001b[0m\u001b[90m I\u001b[0m ⋯\n",
       "─────┼──────────────────────────────────────────────────────────────────────────\n",
       "   1 │            1         0.914035                      4               0    ⋯\n",
       "   2 │            1         0.417636                      4               0\n",
       "   3 │            1        -0.479137                      4               0\n",
       "   4 │            1        -2.34252                       4               0\n",
       "   5 │            2         2.63331                       2               1    ⋯\n",
       "   6 │            2         0.210277                      2               0\n",
       "   7 │            3         2.17458                       4               0\n",
       "   8 │            3         1.49642                       4               0\n",
       "   9 │            3         1.04001                       4               0    ⋯\n",
       "  10 │            3         0.992963                      4               0\n",
       "\u001b[36m                                                                1 column omitted\u001b[0m"
      ]
     },
     "execution_count": 47,
     "metadata": {},
     "output_type": "execute_result"
    }
   ],
   "source": [
    "first(data_1, 10)"
   ]
  },
  {
   "cell_type": "markdown",
   "id": "b572c19e",
   "metadata": {},
   "source": [
    "# Question 2 : Probit estimator"
   ]
  },
  {
   "cell_type": "markdown",
   "id": "e2495856",
   "metadata": {},
   "source": [
    "Following one of the special cases explained in Berry (1992), I focus on the probabilities of the number of firms in each market with three cases.\n",
    "* $Pr(N=0)$\n",
    "* $Pr(N=1)$\n",
    "* $Pr(N=2)$"
   ]
  },
  {
   "cell_type": "code",
   "execution_count": 56,
   "id": "b2797210",
   "metadata": {},
   "outputs": [
    {
     "data": {
      "text/plain": [
       "entry_probit (generic function with 1 method)"
      ]
     },
     "execution_count": 56,
     "metadata": {},
     "output_type": "execute_result"
    }
   ],
   "source": [
    "\n",
    "function entry_probit(param1::AbstractVector, fixed_param::parameters, market::AbstractVector, firm_char::AbstractVector, potential::AbstractVector, eq_firm::AbstractVector)\n",
    "    \"\"\" loglike function\n",
    "    Input:\n",
    "    1. param1::AbstractVector : parameters of interest [μ, σ, δ] \n",
    "    2. fixed_param::parameters : other parameters [α, β, M]\n",
    "    3. market::AbstractVector - marketwide observables : X (M vector)\n",
    "    4. firm_char::AbstractVector - firm observable characteristics : 'M X entrant[m]' m=1,...,M vector\n",
    "    5. potential::AbstractVector - potential entrants for each market (M vector)\n",
    "    Output: \n",
    "    1. -loglik::Float64 : negative loglik value \n",
    "    \"\"\"\n",
    "    if param1[2] <0\n",
    "        param1[2] = 1\n",
    "    end\n",
    "\n",
    "    Pr_0 = zeros(Float64, fixed_param.M) #Pr(N=0)\n",
    "    Pr_1 = zeros(Float64, fixed_param.M) #Pr(N=1)\n",
    "    Pr_2 = zeros(Float64, fixed_param.M) #Pr(N>=2)\n",
    "    dis = Normal(param1[1],param1[2])\n",
    "\n",
    "    for m in eachindex(potential) # Market m case\n",
    "        x = market[m]\n",
    "        Z_m = firm_char[m]\n",
    "        entr_num = potential[m]\n",
    "        ## each firm's profit \n",
    "        Π_m = zeros(eltype(Float64),entr_num)\n",
    "        Π_m = x * fixed_param.β .- Z_m * fixed_param.α\n",
    "        # order firms by profitability\n",
    "        sort!(Π_m, rev = true)\n",
    "        # Pr_1 = The first profitable firm enters so the rest firms must have negative profits\n",
    "        Pr_0[m] = 1\n",
    "        for i in 1: entr_num\n",
    "            Pr_0[m] *= (1-cdf(dis,Π_m[i]))\n",
    "        end \n",
    "        \n",
    "        \n",
    "        Pr_1[m] = cdf(dis, Π_m[1])*(1- cdf(dis, Π_m[2] - param1[3])) - (cdf(dis,Π_m[1]) - cdf(dis, Π_m[1] - param1[3])) * (cdf(dis,Π_m[2]) - cdf(dis,Π_m[2]-param1[3])) * (cdf(dis, Π_m[1]- Π_m[2])/2)\n",
    "        Pr_2[m] = 1 - Pr_0[m] - Pr_1[m]\n",
    "        \n",
    "    end\n",
    "\n",
    "\n",
    "    nofirm = eq_firm .== 0\n",
    "    monopoly = eq_firm .== 1\n",
    "    moretwo = eq_firm .>= 2\n",
    "    Pr_0[Pr_0 .<= 0.0] .= 1e-10\n",
    "    Pr_1[Pr_1 .<= 0.0] .= 1e-10\n",
    "    Pr_2[Pr_2 .<= 0.0] .= 1e-10\n",
    "        \n",
    "    \n",
    "    loglik = sum(nofirm .* log.(Pr_0) .+ monopoly.* log.(Pr_1) .+ moretwo .* log.(Pr_2))\n",
    "\n",
    "    return -loglik\n",
    "end\n",
    "\n"
   ]
  },
  {
   "cell_type": "markdown",
   "id": "f6fd6993",
   "metadata": {},
   "source": [
    "## Compute probit estimates and standard errors for ($\\mu$, $\\sigma$, $\\delta$)\n",
    "Here I use BFGS for the probit estimator and compute standard error using the information matrix."
   ]
  },
  {
   "cell_type": "markdown",
   "id": "b7c837b8",
   "metadata": {},
   "source": [
    "* Do you need to make any equilibrium selection assumptions?\n",
    "\n",
    "I made an equilibrium selection assumption that profitable firms enter first sequentially."
   ]
  },
  {
   "cell_type": "code",
   "execution_count": 69,
   "id": "72a2bc0f",
   "metadata": {},
   "outputs": [
    {
     "data": {
      "text/plain": [
       "3-element Vector{Float64}:\n",
       " 2.167048317102835\n",
       " 0.9586206048170339\n",
       " 0.6026102979703265"
      ]
     },
     "execution_count": 69,
     "metadata": {},
     "output_type": "execute_result"
    }
   ],
   "source": [
    "opt_probit = Optim.optimize(vars -> entry_probit(vars, param, X, Z, entrant, entered_firm), ones(3), BFGS(), Optim.Options(show_trace = false, g_tol = 1e-7));\n",
    "estimates_probit = opt_probit.minimizer"
   ]
  },
  {
   "cell_type": "code",
   "execution_count": 58,
   "id": "3b3d1ff0",
   "metadata": {},
   "outputs": [
    {
     "data": {
      "text/plain": [
       "3-element Vector{Float64}:\n",
       " 0.019013639206240877\n",
       " 0.019354139457049585\n",
       " 0.03598819093003883"
      ]
     },
     "execution_count": 58,
     "metadata": {},
     "output_type": "execute_result"
    }
   ],
   "source": [
    "hessian_probit = hessian( vars -> entry_probit(vars, param, X, Z, entrant, entered_firm)  )\n",
    "se_probit = diag(inv(hessian_probit(estimates_probit)))\n",
    "\n"
   ]
  },
  {
   "cell_type": "markdown",
   "id": "83f462cb",
   "metadata": {},
   "source": [
    "#  Question 3 and 4 : Method of Simulated Moments"
   ]
  },
  {
   "cell_type": "markdown",
   "id": "cc1384ff",
   "metadata": {},
   "source": [
    "## MSM estimator (including incorrect specification cases)"
   ]
  },
  {
   "cell_type": "code",
   "execution_count": 82,
   "id": "7a147e1d",
   "metadata": {},
   "outputs": [
    {
     "data": {
      "text/plain": [
       "msm_bootstrap (generic function with 1 method)"
      ]
     },
     "execution_count": 82,
     "metadata": {},
     "output_type": "execute_result"
    }
   ],
   "source": [
    "\n",
    "function simulated_mm(param1::AbstractVector, param2::parameters, market::AbstractVector, firm_char::AbstractVector, eq_firm::AbstractVector, eq_firm_vec::AbstractVector, potential::AbstractVector, S::Int64, mode)\n",
    "    \"\"\"\n",
    "    Input:\n",
    "    1. param1::AbstractVector : parameters of interest : μ, σ, δ\n",
    "    2. fixed_param::parameters : other parameters [α, β, M]\n",
    "    3. market::AbstractVector - marketwide observables\n",
    "    4. firm_char::AbstractVector - firm observable characteristics : 'M X entrant[m]' m=1,...,M vector\n",
    "    5. eq_firm::AbstractVector - equilbrium entered firm number for each market 'M' \n",
    "    6. potential::AbstractVector - potential entrants for each market\n",
    "    7. S::Int64 - simulation number\n",
    "\n",
    "    Output:\n",
    "    1. Criterion function value (N* - N_simulated)' * (N* - N_simulated)\n",
    "    \"\"\"\n",
    "    if param1[2] < 0 \n",
    "        param1[2] = 1.0\n",
    "    end\n",
    "\n",
    "    enter_firm = zeros(length(potential)*S)\n",
    "    Z_m_temp = copy(firm_char)\n",
    "    Z_m = repeat(Z_m_temp, S)\n",
    "    X_m_temp = copy(market)\n",
    "    X_m = repeat(X_m_temp, S)\n",
    "    firm_number = repeat(potential, S)\n",
    "    simu = rand(MersenneTwister(123), Normal(param1[1], param1[2]), sum(firm_number, dims = 1)[1])\n",
    "    k = 1\n",
    "    u_firm = Vector{Float64}[]\n",
    "    j = 0\n",
    "    eq_entered = repeat(eq_firm, S)\n",
    "    for i in eachindex(firm_number)\n",
    "        j += firm_number[i]\n",
    "        temp = simu[k:j]\n",
    "        u_firm = push!(u_firm, temp)\n",
    "        k = j + 1\n",
    "    end     \n",
    "    \n",
    "    if mode == \"number\"\n",
    "        for j in eachindex(firm_number)\n",
    "            Pi = param2.β * X_m[j] .- param2.α * Z_m[j] .- u_firm[j]\n",
    "            sort!(Pi, rev= true)\n",
    "            entrant_number = Vector(1:1:firm_number[j])\n",
    "            Profit = Pi - param1[3] * log.(entrant_number)\n",
    "            enter_firm[j] = count(i -> (i>=0), Profit)\n",
    "        end\n",
    "\n",
    "        proj_temp = reshape(enter_firm, param2.M, S)\n",
    "        proj = sum(proj_temp, dims = 2) / S\n",
    "        Q = (eq_firm - proj)' * (eq_firm - proj)\n",
    "        return Q[1] \n",
    "    elseif mode ==\"numberrev\"\n",
    "\n",
    "        for j in eachindex(firm_number)\n",
    "            Pi = param2.β * X_m[j] .- param2.α * Z_m[j] .- u_firm[j]\n",
    "            sort!(Pi, rev= false)\n",
    "            entrant_number = Vector(1:1:firm_number[j])\n",
    "            Profit = Pi - param1[3] * log.(entrant_number)\n",
    "            enter_firm[j] = count(i -> (i>=0), Profit)\n",
    "        end\n",
    "\n",
    "        proj_temp = reshape(enter_firm, param2.M, S)\n",
    "        proj = sum(proj_temp, dims = 2) / S\n",
    "        Q = (eq_firm - proj)' * (eq_firm - proj)\n",
    "        return Q[1] \n",
    "\n",
    "    elseif mode == \"identity\"\n",
    "        decision_firm = Vector{Int64}[]\n",
    "        for j in eachindex(firm_number)\n",
    "            Pi = param2.β * X_m[j] .- param2.α * Z_m[j] .- u_firm[j]\n",
    "            Pi_ranked = sort(Pi, rev = true)\n",
    "            entrant_number = Vector(1:1:firm_number[j])\n",
    "            Profit = Pi_ranked - param1[3] * log.(entrant_number)\n",
    "            enter_firm[j] = count(i -> (i >= 0), Profit)\n",
    "\n",
    "            temp1 = Profit + param1[3] * log.(entrant_number)\n",
    "            temp2 = round.(Pi; digits = 5)\n",
    "            temp3 = round.(temp1; digits = 5)\n",
    "            temp4 = zeros(eltype(Int64), firm_number[j])\n",
    "            for m in 1: firm_number[j]\n",
    "                temp4[m] = findall(temp2 .== temp3[m])[1]\n",
    "            end\n",
    "     \n",
    "            \n",
    "            temp_d = temp4 .<= eq_entered[j]\n",
    "            decision_firm = push!(decision_firm, temp_d)\n",
    "        end\n",
    "\n",
    "        d = Vector{Int64}(undef,1)\n",
    "        for m in eachindex(firm_number)\n",
    "            append!(d, decision_firm[m])\n",
    "        end\n",
    "        d = d[2:end]\n",
    "        d_temp = reshape(d, sum(potential), S)\n",
    "        d_eq = Vector{Float64}(undef,1)\n",
    "        for m in eachindex(potential)\n",
    "            append!(d_eq, eq_firm_vec[m])\n",
    "        end\n",
    "        d_eq = d_eq[2:end]\n",
    "\n",
    "        d_proj = sum(d_temp, dims = 2) ./ S\n",
    "\n",
    "        proj_2 = reshape(enter_firm, param2.M, S)\n",
    "        proj_num = sum(proj_2, dims = 2) / S\n",
    "        moment = vcat((eq_firm - proj_num), (d_eq - d_proj)) \n",
    "\n",
    "        Q = moment' * moment\n",
    "\n",
    "        return Q[1]\n",
    "\n",
    "    elseif mode == \"identityrev\"\n",
    "        decision_firm = Vector{Int64}[]\n",
    "        for j in eachindex(firm_number)\n",
    "            Pi = param2.β * X_m[j] .- param2.α * Z_m[j] .- u_firm[j]\n",
    "            Pi_ranked = sort(Pi, rev = false)\n",
    "            entrant_number = Vector(1:1:firm_number[j])\n",
    "            Profit = Pi_ranked - param1[3] * log.(entrant_number)\n",
    "            enter_firm[j] = count(i -> (i >= 0), Profit)\n",
    "\n",
    "            temp1 = Profit + param1[3] * log.(entrant_number)\n",
    "            temp2 = round.(Pi; digits = 5)\n",
    "            temp3 = round.(temp1; digits = 5)\n",
    "            temp4 = zeros(eltype(Int64), firm_number[j])\n",
    "            for m in 1: firm_number[j]\n",
    "                temp4[m] = findall(temp2 .== temp3[m])[1]\n",
    "            end\n",
    "     \n",
    "            \n",
    "            temp_d = temp4 .<= eq_entered[j]\n",
    "            decision_firm = push!(decision_firm, temp_d)\n",
    "        end\n",
    "\n",
    "        d = Vector{Int64}(undef,1)\n",
    "        for m in eachindex(firm_number)\n",
    "            append!(d, decision_firm[m])\n",
    "        end\n",
    "        d = d[2:end]\n",
    "        d_temp = reshape(d, sum(potential), S)\n",
    "        d_eq = Vector{Float64}(undef,1)\n",
    "        for m in eachindex(potential)\n",
    "            append!(d_eq, eq_firm_vec[m])\n",
    "        end\n",
    "        d_eq = d_eq[2:end]\n",
    "\n",
    "        d_proj = sum(d_temp, dims = 2) ./ S\n",
    "\n",
    "        proj_2 = reshape(enter_firm, param2.M, S)\n",
    "        proj_num = sum(proj_2, dims = 2) / S\n",
    "        moment = vcat((eq_firm - proj_num), (d_eq - d_proj)) \n",
    "\n",
    "        Q = moment' * moment\n",
    "\n",
    "        return Q[1]\n",
    "    end\n",
    "\n",
    "end\n",
    "\n",
    "function msm_bootstrap(param::parameters, X::AbstractVector, Z::AbstractVector, U::AbstractVector, entrant::AbstractVector, B::Int64)\n",
    "    est_id = Vector{Float64}(undef,1)\n",
    "    est_num = Vector{Float64}(undef,1)\n",
    "    est_id_rev = Vector{Float64}(undef,1)\n",
    "    est_num_rev = Vector{Float64}(undef,1)\n",
    "    b = 0\n",
    "    while b < B\n",
    "        Z_bt = Vector{Float64}[]\n",
    "        for m in eachindex(entrant)\n",
    "            temp = sample(Z[m], entrant[m]; replace = true, ordered = false)\n",
    "            push!(Z_bt, temp)\n",
    "        end\n",
    "\n",
    "        entered_firm, decision = eq_firm_calc(tru_param, param, X, entrant, Z_bt, U)\n",
    "\n",
    "\n",
    "        opt_identity = Optim.optimize(vars -> simulated_mm(vars, param, X, Z_bt, entered_firm, decision, entrant, 50, \"identity\"), ones(3), Optim.Options(show_trace = false, g_tol = 1e-5))\n",
    "        estimates_identity = opt_identity.minimizer\n",
    "        append!(est_id, estimates_identity)\n",
    "        opt_number = Optim.optimize(vars -> simulated_mm(vars, param, X, Z_bt, entered_firm, decision, entrant, 50, \"number\"), ones(3), Optim.Options(show_trace = false, g_tol = 1e-5))\n",
    "        estimates_msm = opt_number.minimizer\n",
    "        append!(est_num, estimates_identity)\n",
    "        opt_identity_rev = Optim.optimize(vars -> simulated_mm(vars, param, X, Z_bt, entered_firm, decision, entrant, 50, \"identityrev\"), ones(3), Optim.Options(show_trace = false, g_tol = 1e-5))\n",
    "        estimates_identity_rev = opt_identity_rev.minimizer\n",
    "        append!(est_id_rev, estimates_identity_rev)\n",
    "        opt_number_rev = Optim.optimize(vars -> simulated_mm(vars, param, X, Z_bt, entered_firm, decision, entrant, 50, \"numberrev\"), ones(3), Optim.Options(show_trace = false, g_tol = 1e-5))\n",
    "        estimates_number_rev = opt_number_rev.minimizer\n",
    "        append!(est_num_rev, estimates_number_rev)\n",
    "\n",
    "\n",
    "\n",
    "        b += 1\n",
    "    end\n",
    "    return (est_id[2:end], est_num[2:end], est_id_rev[2:end], est_num_rev[2:end])\n",
    "end"
   ]
  },
  {
   "cell_type": "markdown",
   "id": "6eec8fe0",
   "metadata": {},
   "source": [
    "### (a-1) The correctly specified model: Using identities of firms and numbers of entered firms."
   ]
  },
  {
   "cell_type": "code",
   "execution_count": 91,
   "id": "1b45a930",
   "metadata": {},
   "outputs": [
    {
     "data": {
      "text/plain": [
       "3-element Vector{Float64}:\n",
       " 1.9816565196623905\n",
       " 0.851003693563963\n",
       " 1.1334036592648404"
      ]
     },
     "execution_count": 91,
     "metadata": {},
     "output_type": "execute_result"
    }
   ],
   "source": [
    "opt_identity = Optim.optimize(vars -> simulated_mm(vars, param, X, Z, entered_firm, decision, entrant, 200, \"identity\"), ones(3), Optim.Options(show_trace = false, g_tol = 1e-5))\n",
    "estimates_identity = opt_identity.minimizer"
   ]
  },
  {
   "cell_type": "markdown",
   "id": "9e47caf0",
   "metadata": {},
   "source": [
    "### (a-2) The correctly specified model: Using just the numbers of entered firm."
   ]
  },
  {
   "cell_type": "code",
   "execution_count": 103,
   "id": "31464a5d",
   "metadata": {},
   "outputs": [
    {
     "data": {
      "text/plain": [
       "3-element Vector{Float64}:\n",
       " 1.933239484005392\n",
       " 0.9789171418973519\n",
       " 1.1882196697374585"
      ]
     },
     "execution_count": 103,
     "metadata": {},
     "output_type": "execute_result"
    }
   ],
   "source": [
    "opt_number = Optim.optimize(vars -> simulated_mm(vars, param, X, Z, entered_firm, decision, entrant, 200, \"number\"), ones(3), Optim.Options(show_trace = false, g_tol = 1e-5))\n",
    "estimates_msm = opt_number.minimizer"
   ]
  },
  {
   "cell_type": "markdown",
   "id": "6a8be35b",
   "metadata": {},
   "source": [
    "### (b-1) The incorrectly specificed model: Using identities of firms and numbers of entered firms."
   ]
  },
  {
   "cell_type": "code",
   "execution_count": 92,
   "id": "99ddd32c",
   "metadata": {},
   "outputs": [
    {
     "data": {
      "text/plain": [
       "3-element Vector{Float64}:\n",
       " 1.2231182031066525\n",
       " 2.7818914310742255\n",
       " 2.2687948757076404"
      ]
     },
     "execution_count": 92,
     "metadata": {},
     "output_type": "execute_result"
    }
   ],
   "source": [
    "opt_identity_rev = Optim.optimize(vars -> simulated_mm(vars, param, X, Z, entered_firm, decision, entrant, 200, \"identityrev\"), ones(3), Optim.Options(show_trace = false, g_tol = 1e-5))\n",
    "estimates_identity_rev = opt_identity_rev.minimizer"
   ]
  },
  {
   "cell_type": "markdown",
   "id": "23f505d0",
   "metadata": {},
   "source": [
    "### (b-2) The incorrectly specified model: Using just the numbers of entered firm."
   ]
  },
  {
   "cell_type": "code",
   "execution_count": 105,
   "id": "010df42c",
   "metadata": {},
   "outputs": [
    {
     "data": {
      "text/plain": [
       "3-element Vector{Float64}:\n",
       " 1.9550171263455598\n",
       " 1.917147396384817\n",
       " 1.25705981799055"
      ]
     },
     "execution_count": 105,
     "metadata": {},
     "output_type": "execute_result"
    }
   ],
   "source": [
    "opt_number_rev = Optim.optimize(vars -> simulated_mm(vars, param, X, Z, entered_firm, decision, entrant, 200, \"numberrev\"), ones(3), Optim.Options(show_trace = false, g_tol = 1e-5))\n",
    "estimates_msm_rev = opt_number_rev.minimizer"
   ]
  },
  {
   "cell_type": "markdown",
   "id": "21a2cb5e",
   "metadata": {},
   "source": [
    "### Standard error: Bootstrap (Bootstrap simulation : 100 times)"
   ]
  },
  {
   "cell_type": "code",
   "execution_count": 83,
   "id": "c5f2f92d",
   "metadata": {},
   "outputs": [],
   "source": [
    "ident, num, ident_rev, num_rev = msm_bootstrap(param, X, Z, u_firm_new, entrant, 100);"
   ]
  },
  {
   "cell_type": "code",
   "execution_count": 86,
   "id": "f71db9ae",
   "metadata": {},
   "outputs": [],
   "source": [
    "bt_1 = reshape(ident, 3, 100)\n",
    "bt_2 = reshape(num, 3, 100)\n",
    "bt_3 = reshape(ident_rev, 3, 100)\n",
    "bt_4 = reshape(num_rev,3, 100)\n",
    "\n",
    "μ_se =  sqrt(var(bt_1[1,:]))\n",
    "σ_se = sqrt(var(bt_1[2,:]))\n",
    "δ_se = sqrt(var(bt_1[3,:]))\n",
    "\n",
    "μ_se_num = sqrt(var(bt_2[1,:]))\n",
    "σ_se_num = sqrt(var(bt_2[2,:]))\n",
    "δ_se_num = sqrt(var(bt_2[3,:]))\n",
    "\n",
    "μ_se_rev =  sqrt(var(bt_3[1,:]))\n",
    "σ_se_rev = sqrt(var(bt_3[2,:]))\n",
    "δ_se_rev = sqrt(var(bt_3[3,:]))\n",
    "\n",
    "μ_se_num_rev = sqrt(var(bt_4[1,:]))\n",
    "σ_se_num_rev = sqrt(var(bt_4[2,:]))\n",
    "δ_se_num_rev = sqrt(var(bt_4[3,:]));\n"
   ]
  },
  {
   "cell_type": "markdown",
   "id": "1c79febc",
   "metadata": {},
   "source": [
    "### Case 1 (a-1): estimates ( $\\mu$, $\\sigma$, $\\delta$)"
   ]
  },
  {
   "cell_type": "code",
   "execution_count": 94,
   "id": "3075923b",
   "metadata": {},
   "outputs": [
    {
     "data": {
      "text/plain": [
       "3-element Vector{Float64}:\n",
       " 1.9816565196623905\n",
       " 0.851003693563963\n",
       " 1.1334036592648404"
      ]
     },
     "execution_count": 94,
     "metadata": {},
     "output_type": "execute_result"
    }
   ],
   "source": [
    "estimates_identity"
   ]
  },
  {
   "cell_type": "markdown",
   "id": "49d43d85",
   "metadata": {},
   "source": [
    "### Standard errors : $\\mu$, $\\sigma$, $\\delta$"
   ]
  },
  {
   "cell_type": "code",
   "execution_count": 95,
   "id": "a48974c7",
   "metadata": {},
   "outputs": [
    {
     "data": {
      "text/plain": [
       "3-element Vector{Float64}:\n",
       " 0.11758075298612489\n",
       " 0.10542881818444913\n",
       " 0.14524510883341407"
      ]
     },
     "execution_count": 95,
     "metadata": {},
     "output_type": "execute_result"
    }
   ],
   "source": [
    "[μ_se, σ_se, δ_se]"
   ]
  },
  {
   "cell_type": "markdown",
   "id": "f6076bdb",
   "metadata": {},
   "source": [
    "### Case 2 (a-2): estimates ( $\\mu$, $\\sigma$, $\\delta$)\n"
   ]
  },
  {
   "cell_type": "code",
   "execution_count": 104,
   "id": "b27c1d4a",
   "metadata": {},
   "outputs": [
    {
     "data": {
      "text/plain": [
       "3-element Vector{Float64}:\n",
       " 1.933239484005392\n",
       " 0.9789171418973519\n",
       " 1.1882196697374585"
      ]
     },
     "execution_count": 104,
     "metadata": {},
     "output_type": "execute_result"
    }
   ],
   "source": [
    "estimates_msm "
   ]
  },
  {
   "cell_type": "markdown",
   "id": "f1859663",
   "metadata": {},
   "source": [
    "### Standard errors : $\\mu$, $\\sigma$, $\\delta$\n"
   ]
  },
  {
   "cell_type": "code",
   "execution_count": 97,
   "id": "c2a98982",
   "metadata": {},
   "outputs": [
    {
     "data": {
      "text/plain": [
       "3-element Vector{Float64}:\n",
       " 0.11758075298612489\n",
       " 0.10542881818444913\n",
       " 0.14524510883341407"
      ]
     },
     "execution_count": 97,
     "metadata": {},
     "output_type": "execute_result"
    }
   ],
   "source": [
    "[μ_se_num, σ_se_num, δ_se_num]"
   ]
  },
  {
   "cell_type": "markdown",
   "id": "ec237b7c",
   "metadata": {},
   "source": [
    "### Case 3 (b-1): estimates ( $\\mu$, $\\sigma$, $\\delta$)\n",
    "\n"
   ]
  },
  {
   "cell_type": "code",
   "execution_count": 98,
   "id": "cbbf0ab0",
   "metadata": {},
   "outputs": [
    {
     "data": {
      "text/plain": [
       "3-element Vector{Float64}:\n",
       " 1.2231182031066525\n",
       " 2.7818914310742255\n",
       " 2.2687948757076404"
      ]
     },
     "execution_count": 98,
     "metadata": {},
     "output_type": "execute_result"
    }
   ],
   "source": [
    "estimates_identity_rev"
   ]
  },
  {
   "cell_type": "markdown",
   "id": "6e9a9e79",
   "metadata": {},
   "source": [
    "### Standard errors : $\\mu$, $\\sigma$, $\\delta$\n"
   ]
  },
  {
   "cell_type": "code",
   "execution_count": 99,
   "id": "5dae6164",
   "metadata": {},
   "outputs": [
    {
     "data": {
      "text/plain": [
       "3-element Vector{Float64}:\n",
       " 0.3404853123415359\n",
       " 0.23401493180375293\n",
       " 0.4972343370078397"
      ]
     },
     "execution_count": 99,
     "metadata": {},
     "output_type": "execute_result"
    }
   ],
   "source": [
    "[μ_se_rev, σ_se_rev, δ_se_rev]"
   ]
  },
  {
   "cell_type": "markdown",
   "id": "7dda8fc0",
   "metadata": {},
   "source": [
    "### Case 4 (b-2): estimates ( $\\mu$, $\\sigma$, $\\delta$)\n",
    "\n"
   ]
  },
  {
   "cell_type": "code",
   "execution_count": 100,
   "id": "c84d95cc",
   "metadata": {},
   "outputs": [
    {
     "data": {
      "text/plain": [
       "3-element Vector{Float64}:\n",
       " 1.9550171263455598\n",
       " 1.917147396384817\n",
       " 1.25705981799055"
      ]
     },
     "execution_count": 100,
     "metadata": {},
     "output_type": "execute_result"
    }
   ],
   "source": [
    "estimates_msm_rev"
   ]
  },
  {
   "cell_type": "markdown",
   "id": "d7cc164f",
   "metadata": {},
   "source": [
    "### Standard errors : $\\mu$, $\\sigma$, $\\delta$"
   ]
  },
  {
   "cell_type": "code",
   "execution_count": 101,
   "id": "7fe5ab9a",
   "metadata": {},
   "outputs": [
    {
     "data": {
      "text/plain": [
       "3-element Vector{Float64}:\n",
       " 0.14910509487251863\n",
       " 0.13209731189491578\n",
       " 0.2314522305717073"
      ]
     },
     "execution_count": 101,
     "metadata": {},
     "output_type": "execute_result"
    }
   ],
   "source": [
    "[μ_se_num_rev, σ_se_num_rev,δ_se_num_rev]"
   ]
  },
  {
   "cell_type": "markdown",
   "id": "13c4f594",
   "metadata": {},
   "source": [
    "## Results: (Standard errrors are reported in the brackets)"
   ]
  },
  {
   "cell_type": "markdown",
   "id": "eef87cb4",
   "metadata": {},
   "source": [
    "|          \t| Specification 1 (Identity & Number) \t| Specification 2 (Number) \t| Specification 3 (Identity & Number, Incorrect) \t| Specification 4 (Number, Incorrect) \t|\n",
    "|:--------:\t|:-----------------------------------:\t|:------------------------:\t|:----------------------------------------------:\t|:-----------------------------------:\t|\n",
    "|   $\\mu$  \t|           1.9817 (0.1176)           \t|      1.9332 (0.1176)     \t|                 1.2231 (0.3405)                \t|           1.9550 (0.1491)           \t|\n",
    "| $\\sigma$ \t|           0.8510 (0.1054)           \t|      0.9789 (0.1054)     \t|                 2.7818 (0.2340)                \t|           1.9171 (0.1320)           \t|\n",
    "| $\\delta$ \t|           1.1334 (0.1452)           \t|      1.1882 (0.1452)     \t|                 2.2688 (0.4972)                \t|           1.2570 (0.2315)           \t|"
   ]
  },
  {
   "cell_type": "markdown",
   "id": "601015a8",
   "metadata": {},
   "source": []
  }
 ],
 "metadata": {
  "kernelspec": {
   "display_name": "Julia 1.7.2",
   "language": "julia",
   "name": "julia-1.7"
  },
  "language_info": {
   "file_extension": ".jl",
   "mimetype": "application/julia",
   "name": "julia",
   "version": "1.7.2"
  }
 },
 "nbformat": 4,
 "nbformat_minor": 5
}
